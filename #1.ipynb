{
  "nbformat": 4,
  "nbformat_minor": 0,
  "metadata": {
    "colab": {
      "name": "#1.ipynb",
      "provenance": [],
      "collapsed_sections": [],
      "authorship_tag": "ABX9TyNRyhY5O2xnjYuY/8DsdFSq",
      "include_colab_link": true
    },
    "kernelspec": {
      "name": "python3",
      "display_name": "Python 3"
    }
  },
  "cells": [
    {
      "cell_type": "markdown",
      "metadata": {
        "id": "view-in-github",
        "colab_type": "text"
      },
      "source": [
        "<a href=\"https://colab.research.google.com/github/sanso62/Solve_LeetCode_problems_using_Python/blob/main/%231.ipynb\" target=\"_parent\"><img src=\"https://colab.research.google.com/assets/colab-badge.svg\" alt=\"Open In Colab\"/></a>"
      ]
    },
    {
      "cell_type": "markdown",
      "metadata": {
        "id": "vr8mvCh6-x-r"
      },
      "source": [
        "LeetCode #1\r\n",
        "https://leetcode.com/problems/two-sum/"
      ]
    },
    {
      "cell_type": "code",
      "metadata": {
        "id": "uRR7LR5j-tWp"
      },
      "source": [
        "class Solution:\r\n",
        "    def twoSum(self, nums: List[int], target: int) -> List[int]:\r\n",
        "        for i, num1 in enumerate(nums):\r\n",
        "            for j, num2 in enumerate(nums[i+1:]):\r\n",
        "                if num1 + num2 == target: \r\n",
        "                    return [i,j+i+1]"
      ],
      "execution_count": null,
      "outputs": []
    }
  ]
}